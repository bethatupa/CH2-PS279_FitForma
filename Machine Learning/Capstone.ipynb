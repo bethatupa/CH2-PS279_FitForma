{
  "cells": [
    {
      "cell_type": "markdown",
      "metadata": {
        "id": "view-in-github",
        "colab_type": "text"
      },
      "source": [
        "<a href=\"https://colab.research.google.com/github/bethatupa/CH2-PS279_FitForma/blob/main/Capstone.ipynb\" target=\"_parent\"><img src=\"https://colab.research.google.com/assets/colab-badge.svg\" alt=\"Open In Colab\"/></a>"
      ]
    },
    {
      "cell_type": "code",
      "execution_count": null,
      "metadata": {
        "id": "buHdR_rlmBkA",
        "colab": {
          "base_uri": "https://localhost:8080/"
        },
        "outputId": "d1ed7237-5269-433b-a25a-bdffadbf3ec8"
      },
      "outputs": [
        {
          "output_type": "stream",
          "name": "stdout",
          "text": [
            "Mounted at /content/drive\n"
          ]
        }
      ],
      "source": [
        "import os\n",
        "import tensorflow as tf\n",
        "import matplotlib.pyplot as plt\n",
        "import numpy as np\n",
        "import tensorflow_hub as hub\n",
        "from tensorflow.keras.preprocessing.image import ImageDataGenerator\n",
        "from keras.callbacks import Callback\n",
        "from keras.utils import to_categorical\n",
        "from sklearn.metrics import confusion_matrix, classification_report\n",
        "import seaborn as sns\n",
        "from keras.preprocessing import image\n",
        "\n",
        "from google.colab import drive\n",
        "drive.mount('/content/drive')"
      ]
    },
    {
      "cell_type": "markdown",
      "source": [
        "Data"
      ],
      "metadata": {
        "id": "xMYRb-lbXJTn"
      }
    },
    {
      "cell_type": "code",
      "execution_count": null,
      "metadata": {
        "id": "s4HVFAr7bP1N"
      },
      "outputs": [],
      "source": [
        "train_dir = 'drive/MyDrive/Capstone Project/dataset/dataset v2/train'\n",
        "valid_dir = 'drive/MyDrive/Capstone Project/dataset/dataset v2/val'\n",
        "test_dir = 'drive/MyDrive/Capstone Project/dataset/dataset v2/test'\n",
        "\n",
        "# train_dir = 'drive/MyDrive/capstone dataset/dataset/dataset/dataset/train'\n",
        "# valid_dir = 'drive/MyDrive/capstone dataset/dataset/dataset/dataset/valid'\n",
        "# test_dir = 'drive/MyDrive/capstone dataset/dataset/dataset/dataset/test'"
      ]
    },
    {
      "cell_type": "markdown",
      "metadata": {
        "id": "2zef8YBpwApI"
      },
      "source": [
        "ImageGen"
      ]
    },
    {
      "cell_type": "code",
      "source": [
        "BATCH_SIZE = 64"
      ],
      "metadata": {
        "id": "8Q6HuXSwtj8U"
      },
      "execution_count": null,
      "outputs": []
    },
    {
      "cell_type": "code",
      "execution_count": null,
      "metadata": {
        "id": "Alnc2_ccstPH",
        "colab": {
          "base_uri": "https://localhost:8080/"
        },
        "outputId": "a33478f4-747e-425f-83fe-0ca35939ac74"
      },
      "outputs": [
        {
          "output_type": "stream",
          "name": "stdout",
          "text": [
            "Found 349 images belonging to 5 classes.\n",
            "Found 98 images belonging to 5 classes.\n",
            "Found 49 images belonging to 5 classes.\n"
          ]
        }
      ],
      "source": [
        "# Datagen\n",
        "train_datagen =  tf.keras.preprocessing.image.ImageDataGenerator(\n",
        "    rescale=1./255,\n",
        "    # shear_range=0.2,\n",
        "    # zoom_range=0.2,\n",
        "    fill_mode='nearest',\n",
        "    rotation_range=20,\n",
        "    width_shift_range=0.2,\n",
        "    height_shift_range=0.2\n",
        "    # horizontal_flip=True,\n",
        "    # validation_split=0.2\n",
        ")\n",
        "\n",
        "test_datagen = ImageDataGenerator(rescale=1./255)\n",
        "valid_datagen =  ImageDataGenerator(rescale=1./255)\n",
        "\n",
        "# Flow training data generator\n",
        "train_generator = train_datagen.flow_from_directory(\n",
        "    train_dir,\n",
        "    target_size=(28, 28),\n",
        "    batch_size=BATCH_SIZE,\n",
        "    shuffle=True,\n",
        "    class_mode='categorical'\n",
        ")\n",
        "\n",
        "# Flow validation data generator\n",
        "validation_generator = valid_datagen.flow_from_directory(\n",
        "    valid_dir,\n",
        "    target_size=(28, 28),\n",
        "    batch_size=BATCH_SIZE,\n",
        "    shuffle=False,\n",
        "    class_mode='categorical'\n",
        ")\n",
        "\n",
        "# Flow test data generator\n",
        "test_generator = test_datagen.flow_from_directory(\n",
        "    test_dir,\n",
        "    target_size=(28, 28),\n",
        "    batch_size=BATCH_SIZE,\n",
        "    shuffle=False,\n",
        "    class_mode='categorical'\n",
        ")\n"
      ]
    },
    {
      "cell_type": "markdown",
      "metadata": {
        "id": "viJGUn-Ufkqv"
      },
      "source": [
        "Model"
      ]
    },
    {
      "cell_type": "code",
      "execution_count": null,
      "metadata": {
        "colab": {
          "base_uri": "https://localhost:8080/"
        },
        "id": "Q-3ygJFVcrei",
        "outputId": "4ef3ece6-20e8-4b13-b2dd-b701267cb3f6"
      },
      "outputs": [
        {
          "output_type": "stream",
          "name": "stdout",
          "text": [
            "Model: \"sequential_5\"\n",
            "_________________________________________________________________\n",
            " Layer (type)                Output Shape              Param #   \n",
            "=================================================================\n",
            " conv2d_5 (Conv2D)           (None, 26, 26, 16)        448       \n",
            "                                                                 \n",
            " max_pooling2d_5 (MaxPoolin  (None, 13, 13, 16)        0         \n",
            " g2D)                                                            \n",
            "                                                                 \n",
            " flatten_5 (Flatten)         (None, 2704)              0         \n",
            "                                                                 \n",
            " dropout_5 (Dropout)         (None, 2704)              0         \n",
            "                                                                 \n",
            " dense_10 (Dense)            (None, 64)                173120    \n",
            "                                                                 \n",
            " dense_11 (Dense)            (None, 5)                 325       \n",
            "                                                                 \n",
            "=================================================================\n",
            "Total params: 173893 (679.27 KB)\n",
            "Trainable params: 173893 (679.27 KB)\n",
            "Non-trainable params: 0 (0.00 Byte)\n",
            "_________________________________________________________________\n"
          ]
        }
      ],
      "source": [
        "model = tf.keras.models.Sequential([\n",
        "    tf.keras.layers.Conv2D(16, (3, 3), input_shape=(28, 28, 3), activation='relu'),\n",
        "    tf.keras.layers.MaxPooling2D(2,2),\n",
        "\n",
        "    # tf.keras.layers.Conv2D(32, (3, 3), activation='relu'),\n",
        "    # tf.keras.layers.MaxPooling2D(2,2),\n",
        "\n",
        "    # tf.keras.layers.Conv2D(64, (3, 3), activation='relu'),\n",
        "    # tf.keras.layers.MaxPooling2D(2,2),\n",
        "\n",
        "    tf.keras.layers.Flatten(),\n",
        "    # tf.keras.layers.Dense(512, activation= 'relu'),\n",
        "    tf.keras.layers.Dropout(0.2),\n",
        "    tf.keras.layers.Dense(64, activation=\"relu\"),\n",
        "    tf.keras.layers.Dense(5, activation='softmax')\n",
        "])\n",
        "\n",
        "model.summary()\n"
      ]
    },
    {
      "cell_type": "code",
      "execution_count": null,
      "metadata": {
        "id": "5qftDmpcgqBE"
      },
      "outputs": [],
      "source": [
        "model.compile(optimizer= tf.keras.optimizers.Adam(learning_rate= 0.001), loss='categorical_crossentropy', metrics=['accuracy'])"
      ]
    },
    {
      "cell_type": "markdown",
      "metadata": {
        "id": "TlUl5fOMALC5"
      },
      "source": [
        "#Callbacks"
      ]
    },
    {
      "cell_type": "code",
      "execution_count": null,
      "metadata": {
        "id": "-nLUXxbWAK2o"
      },
      "outputs": [],
      "source": [
        "class EarlyStoppingCallback(tf.keras.callbacks.Callback):\n",
        "    def on_epoch_end(self, epoch, logs=None):\n",
        "        if logs['accuracy'] >= 0.83:\n",
        "            self.model.stop_training = True\n",
        "early_stop = EarlyStoppingCallback()"
      ]
    },
    {
      "cell_type": "markdown",
      "metadata": {
        "id": "LuT5WRRzJrqC"
      },
      "source": [
        "#train Model"
      ]
    },
    {
      "cell_type": "code",
      "execution_count": null,
      "metadata": {
        "colab": {
          "base_uri": "https://localhost:8080/"
        },
        "id": "Em4i0vaEl6P_",
        "outputId": "f0f1713e-b8de-4201-e311-6f6de25333a9"
      },
      "outputs": [
        {
          "output_type": "stream",
          "name": "stdout",
          "text": [
            "Epoch 1/150\n",
            "6/6 [==============================] - 3s 221ms/step - loss: 1.6854 - accuracy: 0.1920 - val_loss: 1.5449 - val_accuracy: 0.3776\n",
            "Epoch 2/150\n",
            "6/6 [==============================] - 1s 252ms/step - loss: 1.5558 - accuracy: 0.3381 - val_loss: 1.5034 - val_accuracy: 0.3571\n",
            "Epoch 3/150\n",
            "6/6 [==============================] - 1s 251ms/step - loss: 1.4964 - accuracy: 0.3696 - val_loss: 1.4194 - val_accuracy: 0.4286\n",
            "Epoch 4/150\n",
            "6/6 [==============================] - 2s 363ms/step - loss: 1.4126 - accuracy: 0.4040 - val_loss: 1.3492 - val_accuracy: 0.4490\n",
            "Epoch 5/150\n",
            "6/6 [==============================] - 2s 282ms/step - loss: 1.3479 - accuracy: 0.4556 - val_loss: 1.3218 - val_accuracy: 0.4592\n",
            "Epoch 6/150\n",
            "6/6 [==============================] - 2s 305ms/step - loss: 1.2930 - accuracy: 0.4527 - val_loss: 1.3317 - val_accuracy: 0.3980\n",
            "Epoch 7/150\n",
            "6/6 [==============================] - 1s 235ms/step - loss: 1.2533 - accuracy: 0.4756 - val_loss: 1.2253 - val_accuracy: 0.4490\n",
            "Epoch 8/150\n",
            "6/6 [==============================] - 1s 242ms/step - loss: 1.2033 - accuracy: 0.4928 - val_loss: 1.3438 - val_accuracy: 0.4082\n",
            "Epoch 9/150\n",
            "6/6 [==============================] - 1s 229ms/step - loss: 1.2069 - accuracy: 0.4470 - val_loss: 1.1842 - val_accuracy: 0.4694\n",
            "Epoch 10/150\n",
            "6/6 [==============================] - 1s 251ms/step - loss: 1.1760 - accuracy: 0.4928 - val_loss: 1.2557 - val_accuracy: 0.4592\n",
            "Epoch 11/150\n",
            "6/6 [==============================] - 1s 217ms/step - loss: 1.1285 - accuracy: 0.4928 - val_loss: 1.1568 - val_accuracy: 0.5204\n",
            "Epoch 12/150\n",
            "6/6 [==============================] - 1s 244ms/step - loss: 1.1002 - accuracy: 0.5616 - val_loss: 1.2667 - val_accuracy: 0.4490\n",
            "Epoch 13/150\n",
            "6/6 [==============================] - 2s 269ms/step - loss: 1.0711 - accuracy: 0.5244 - val_loss: 1.1117 - val_accuracy: 0.5102\n",
            "Epoch 14/150\n",
            "6/6 [==============================] - 2s 321ms/step - loss: 1.0864 - accuracy: 0.5186 - val_loss: 1.1434 - val_accuracy: 0.5306\n",
            "Epoch 15/150\n",
            "6/6 [==============================] - 2s 280ms/step - loss: 1.0655 - accuracy: 0.5444 - val_loss: 1.2215 - val_accuracy: 0.4490\n",
            "Epoch 16/150\n",
            "6/6 [==============================] - 1s 246ms/step - loss: 1.0991 - accuracy: 0.5330 - val_loss: 1.1986 - val_accuracy: 0.4592\n",
            "Epoch 17/150\n",
            "6/6 [==============================] - 1s 264ms/step - loss: 1.0671 - accuracy: 0.5244 - val_loss: 1.1182 - val_accuracy: 0.5000\n",
            "Epoch 18/150\n",
            "6/6 [==============================] - 1s 233ms/step - loss: 1.0150 - accuracy: 0.5530 - val_loss: 1.0240 - val_accuracy: 0.5714\n",
            "Epoch 19/150\n",
            "6/6 [==============================] - 1s 253ms/step - loss: 1.0013 - accuracy: 0.5501 - val_loss: 1.1328 - val_accuracy: 0.5612\n",
            "Epoch 20/150\n",
            "6/6 [==============================] - 2s 282ms/step - loss: 0.9877 - accuracy: 0.5559 - val_loss: 1.0580 - val_accuracy: 0.5714\n",
            "Epoch 21/150\n",
            "6/6 [==============================] - 2s 292ms/step - loss: 0.9709 - accuracy: 0.5673 - val_loss: 1.0347 - val_accuracy: 0.5306\n",
            "Epoch 22/150\n",
            "6/6 [==============================] - 1s 238ms/step - loss: 0.9272 - accuracy: 0.6447 - val_loss: 1.0670 - val_accuracy: 0.5816\n",
            "Epoch 23/150\n",
            "6/6 [==============================] - 1s 236ms/step - loss: 0.9033 - accuracy: 0.6418 - val_loss: 0.9967 - val_accuracy: 0.5612\n",
            "Epoch 24/150\n",
            "6/6 [==============================] - 1s 234ms/step - loss: 0.9421 - accuracy: 0.5989 - val_loss: 1.1188 - val_accuracy: 0.5408\n",
            "Epoch 25/150\n",
            "6/6 [==============================] - 1s 243ms/step - loss: 0.9043 - accuracy: 0.5931 - val_loss: 1.0660 - val_accuracy: 0.5510\n",
            "Epoch 26/150\n",
            "6/6 [==============================] - 1s 231ms/step - loss: 0.9005 - accuracy: 0.6418 - val_loss: 0.9843 - val_accuracy: 0.6020\n",
            "Epoch 27/150\n",
            "6/6 [==============================] - 2s 287ms/step - loss: 0.8917 - accuracy: 0.6275 - val_loss: 1.1008 - val_accuracy: 0.5408\n",
            "Epoch 28/150\n",
            "6/6 [==============================] - 2s 296ms/step - loss: 0.9148 - accuracy: 0.6418 - val_loss: 1.0491 - val_accuracy: 0.5714\n",
            "Epoch 29/150\n",
            "6/6 [==============================] - 2s 285ms/step - loss: 0.8973 - accuracy: 0.6046 - val_loss: 0.9885 - val_accuracy: 0.5408\n",
            "Epoch 30/150\n",
            "6/6 [==============================] - 1s 240ms/step - loss: 0.8638 - accuracy: 0.6476 - val_loss: 1.0397 - val_accuracy: 0.5918\n",
            "Epoch 31/150\n",
            "6/6 [==============================] - 1s 268ms/step - loss: 0.8666 - accuracy: 0.6447 - val_loss: 0.9673 - val_accuracy: 0.5816\n",
            "Epoch 32/150\n",
            "6/6 [==============================] - 1s 236ms/step - loss: 0.8663 - accuracy: 0.6762 - val_loss: 1.0146 - val_accuracy: 0.5816\n",
            "Epoch 33/150\n",
            "6/6 [==============================] - 1s 242ms/step - loss: 0.8593 - accuracy: 0.6648 - val_loss: 0.9651 - val_accuracy: 0.6122\n",
            "Epoch 34/150\n",
            "6/6 [==============================] - 1s 256ms/step - loss: 0.8340 - accuracy: 0.6619 - val_loss: 0.9493 - val_accuracy: 0.6224\n",
            "Epoch 35/150\n",
            "6/6 [==============================] - 2s 299ms/step - loss: 0.8454 - accuracy: 0.6819 - val_loss: 0.9702 - val_accuracy: 0.6224\n",
            "Epoch 36/150\n",
            "6/6 [==============================] - 2s 290ms/step - loss: 0.8350 - accuracy: 0.6791 - val_loss: 0.8822 - val_accuracy: 0.6020\n",
            "Epoch 37/150\n",
            "6/6 [==============================] - 2s 279ms/step - loss: 0.8194 - accuracy: 0.7077 - val_loss: 1.0406 - val_accuracy: 0.6020\n",
            "Epoch 38/150\n",
            "6/6 [==============================] - 1s 260ms/step - loss: 0.8112 - accuracy: 0.6676 - val_loss: 0.9389 - val_accuracy: 0.5510\n",
            "Epoch 39/150\n",
            "6/6 [==============================] - 1s 246ms/step - loss: 0.8364 - accuracy: 0.6590 - val_loss: 0.9796 - val_accuracy: 0.6122\n",
            "Epoch 40/150\n",
            "6/6 [==============================] - 1s 235ms/step - loss: 0.7602 - accuracy: 0.6934 - val_loss: 0.9372 - val_accuracy: 0.6224\n",
            "Epoch 41/150\n",
            "6/6 [==============================] - 1s 253ms/step - loss: 0.7668 - accuracy: 0.7077 - val_loss: 0.9270 - val_accuracy: 0.6224\n",
            "Epoch 42/150\n",
            "6/6 [==============================] - 2s 253ms/step - loss: 0.7975 - accuracy: 0.6905 - val_loss: 0.9063 - val_accuracy: 0.6531\n",
            "Epoch 43/150\n",
            "6/6 [==============================] - 2s 284ms/step - loss: 0.8070 - accuracy: 0.6676 - val_loss: 0.9500 - val_accuracy: 0.5918\n",
            "Epoch 44/150\n",
            "6/6 [==============================] - 2s 283ms/step - loss: 0.8157 - accuracy: 0.6762 - val_loss: 1.0189 - val_accuracy: 0.6122\n",
            "Epoch 45/150\n",
            "6/6 [==============================] - 1s 244ms/step - loss: 0.7612 - accuracy: 0.6963 - val_loss: 0.9484 - val_accuracy: 0.6122\n",
            "Epoch 46/150\n",
            "6/6 [==============================] - 1s 237ms/step - loss: 0.8034 - accuracy: 0.6848 - val_loss: 0.9668 - val_accuracy: 0.6429\n",
            "Epoch 47/150\n",
            "6/6 [==============================] - 1s 236ms/step - loss: 0.7641 - accuracy: 0.6934 - val_loss: 0.8718 - val_accuracy: 0.6327\n",
            "Epoch 48/150\n",
            "6/6 [==============================] - 1s 257ms/step - loss: 0.7526 - accuracy: 0.7163 - val_loss: 1.1265 - val_accuracy: 0.6020\n",
            "Epoch 49/150\n",
            "6/6 [==============================] - 2s 290ms/step - loss: 0.7636 - accuracy: 0.6762 - val_loss: 0.8788 - val_accuracy: 0.6327\n",
            "Epoch 50/150\n",
            "6/6 [==============================] - 2s 302ms/step - loss: 0.7352 - accuracy: 0.7192 - val_loss: 0.9738 - val_accuracy: 0.6327\n",
            "Epoch 51/150\n",
            "6/6 [==============================] - 2s 261ms/step - loss: 0.7090 - accuracy: 0.7450 - val_loss: 0.9585 - val_accuracy: 0.6020\n",
            "Epoch 52/150\n",
            "6/6 [==============================] - 1s 240ms/step - loss: 0.7175 - accuracy: 0.7221 - val_loss: 0.9003 - val_accuracy: 0.6327\n",
            "Epoch 53/150\n",
            "6/6 [==============================] - 1s 245ms/step - loss: 0.7296 - accuracy: 0.7077 - val_loss: 1.0244 - val_accuracy: 0.6224\n",
            "Epoch 54/150\n",
            "6/6 [==============================] - 1s 242ms/step - loss: 0.7100 - accuracy: 0.7335 - val_loss: 0.9500 - val_accuracy: 0.5816\n",
            "Epoch 55/150\n",
            "6/6 [==============================] - 1s 228ms/step - loss: 0.7248 - accuracy: 0.7307 - val_loss: 0.9861 - val_accuracy: 0.6531\n",
            "Epoch 56/150\n",
            "6/6 [==============================] - 1s 261ms/step - loss: 0.7049 - accuracy: 0.7163 - val_loss: 0.9055 - val_accuracy: 0.5816\n",
            "Epoch 57/150\n",
            "6/6 [==============================] - 2s 266ms/step - loss: 0.7019 - accuracy: 0.7249 - val_loss: 0.9386 - val_accuracy: 0.6122\n",
            "Epoch 58/150\n",
            "6/6 [==============================] - 2s 284ms/step - loss: 0.6523 - accuracy: 0.7450 - val_loss: 1.0165 - val_accuracy: 0.5816\n",
            "Epoch 59/150\n",
            "6/6 [==============================] - 2s 297ms/step - loss: 0.6903 - accuracy: 0.7421 - val_loss: 0.9015 - val_accuracy: 0.6531\n",
            "Epoch 60/150\n",
            "6/6 [==============================] - 1s 237ms/step - loss: 0.6965 - accuracy: 0.7564 - val_loss: 0.9727 - val_accuracy: 0.6531\n",
            "Epoch 61/150\n",
            "6/6 [==============================] - 1s 237ms/step - loss: 0.6965 - accuracy: 0.7135 - val_loss: 1.0255 - val_accuracy: 0.5816\n",
            "Epoch 62/150\n",
            "6/6 [==============================] - 1s 241ms/step - loss: 0.6911 - accuracy: 0.7650 - val_loss: 0.8611 - val_accuracy: 0.6735\n",
            "Epoch 63/150\n",
            "6/6 [==============================] - 1s 242ms/step - loss: 0.6391 - accuracy: 0.7278 - val_loss: 0.9285 - val_accuracy: 0.5918\n",
            "Epoch 64/150\n",
            "6/6 [==============================] - 1s 232ms/step - loss: 0.6349 - accuracy: 0.7650 - val_loss: 0.9422 - val_accuracy: 0.6224\n",
            "Epoch 65/150\n",
            "6/6 [==============================] - 2s 285ms/step - loss: 0.6747 - accuracy: 0.7335 - val_loss: 1.0298 - val_accuracy: 0.6327\n",
            "Epoch 66/150\n",
            "6/6 [==============================] - 2s 315ms/step - loss: 0.6559 - accuracy: 0.7393 - val_loss: 0.8635 - val_accuracy: 0.6122\n",
            "Epoch 67/150\n",
            "6/6 [==============================] - 1s 246ms/step - loss: 0.6768 - accuracy: 0.7421 - val_loss: 0.9186 - val_accuracy: 0.6429\n",
            "Epoch 68/150\n",
            "6/6 [==============================] - 1s 239ms/step - loss: 0.6346 - accuracy: 0.7708 - val_loss: 0.9690 - val_accuracy: 0.6224\n",
            "Epoch 69/150\n",
            "6/6 [==============================] - 1s 258ms/step - loss: 0.6788 - accuracy: 0.7364 - val_loss: 0.9312 - val_accuracy: 0.6429\n",
            "Epoch 70/150\n",
            "6/6 [==============================] - 1s 237ms/step - loss: 0.6247 - accuracy: 0.7507 - val_loss: 0.9599 - val_accuracy: 0.6327\n",
            "Epoch 71/150\n",
            "6/6 [==============================] - 1s 245ms/step - loss: 0.6741 - accuracy: 0.7536 - val_loss: 0.8823 - val_accuracy: 0.6429\n",
            "Epoch 72/150\n",
            "6/6 [==============================] - 2s 245ms/step - loss: 0.6007 - accuracy: 0.7765 - val_loss: 0.9584 - val_accuracy: 0.6429\n",
            "Epoch 73/150\n",
            "6/6 [==============================] - 2s 282ms/step - loss: 0.6427 - accuracy: 0.7593 - val_loss: 0.9036 - val_accuracy: 0.6327\n",
            "Epoch 74/150\n",
            "6/6 [==============================] - 2s 262ms/step - loss: 0.6103 - accuracy: 0.7937 - val_loss: 1.0177 - val_accuracy: 0.6122\n",
            "Epoch 75/150\n",
            "6/6 [==============================] - 1s 244ms/step - loss: 0.6028 - accuracy: 0.7507 - val_loss: 0.9448 - val_accuracy: 0.6327\n",
            "Epoch 76/150\n",
            "6/6 [==============================] - 1s 243ms/step - loss: 0.6319 - accuracy: 0.7479 - val_loss: 0.9461 - val_accuracy: 0.6327\n",
            "Epoch 77/150\n",
            "6/6 [==============================] - 1s 238ms/step - loss: 0.5842 - accuracy: 0.7679 - val_loss: 0.9071 - val_accuracy: 0.5918\n",
            "Epoch 78/150\n",
            "6/6 [==============================] - 1s 265ms/step - loss: 0.6446 - accuracy: 0.7564 - val_loss: 0.9039 - val_accuracy: 0.6429\n",
            "Epoch 79/150\n",
            "6/6 [==============================] - 2s 322ms/step - loss: 0.6715 - accuracy: 0.7393 - val_loss: 1.0104 - val_accuracy: 0.6122\n",
            "Epoch 80/150\n",
            "6/6 [==============================] - 2s 310ms/step - loss: 0.6429 - accuracy: 0.7765 - val_loss: 0.9079 - val_accuracy: 0.6327\n",
            "Epoch 81/150\n",
            "6/6 [==============================] - 1s 246ms/step - loss: 0.6383 - accuracy: 0.7736 - val_loss: 0.9182 - val_accuracy: 0.5918\n",
            "Epoch 82/150\n",
            "6/6 [==============================] - 1s 238ms/step - loss: 0.6260 - accuracy: 0.7564 - val_loss: 0.9571 - val_accuracy: 0.6429\n",
            "Epoch 83/150\n",
            "6/6 [==============================] - 1s 262ms/step - loss: 0.5987 - accuracy: 0.7564 - val_loss: 1.0164 - val_accuracy: 0.6122\n",
            "Epoch 84/150\n",
            "6/6 [==============================] - 1s 246ms/step - loss: 0.6100 - accuracy: 0.7822 - val_loss: 0.9475 - val_accuracy: 0.6327\n",
            "Epoch 85/150\n",
            "6/6 [==============================] - 1s 261ms/step - loss: 0.6025 - accuracy: 0.7937 - val_loss: 0.9311 - val_accuracy: 0.6429\n",
            "Epoch 86/150\n",
            "6/6 [==============================] - 1s 258ms/step - loss: 0.6019 - accuracy: 0.8023 - val_loss: 0.9596 - val_accuracy: 0.6020\n",
            "Epoch 87/150\n",
            "6/6 [==============================] - 2s 301ms/step - loss: 0.6078 - accuracy: 0.7536 - val_loss: 0.9188 - val_accuracy: 0.6429\n",
            "Epoch 88/150\n",
            "6/6 [==============================] - 2s 304ms/step - loss: 0.5632 - accuracy: 0.7880 - val_loss: 0.8828 - val_accuracy: 0.6429\n",
            "Epoch 89/150\n",
            "6/6 [==============================] - 1s 231ms/step - loss: 0.6311 - accuracy: 0.7479 - val_loss: 1.1073 - val_accuracy: 0.6020\n",
            "Epoch 90/150\n",
            "6/6 [==============================] - 1s 257ms/step - loss: 0.5796 - accuracy: 0.7937 - val_loss: 0.9860 - val_accuracy: 0.6327\n",
            "Epoch 91/150\n",
            "6/6 [==============================] - 1s 238ms/step - loss: 0.6387 - accuracy: 0.7536 - val_loss: 0.9298 - val_accuracy: 0.6122\n",
            "Epoch 92/150\n",
            "6/6 [==============================] - 1s 247ms/step - loss: 0.6054 - accuracy: 0.7794 - val_loss: 1.1262 - val_accuracy: 0.5714\n",
            "Epoch 93/150\n",
            "6/6 [==============================] - 1s 256ms/step - loss: 0.5789 - accuracy: 0.7880 - val_loss: 0.8564 - val_accuracy: 0.6531\n",
            "Epoch 94/150\n",
            "6/6 [==============================] - 2s 262ms/step - loss: 0.6105 - accuracy: 0.7507 - val_loss: 1.0887 - val_accuracy: 0.6020\n",
            "Epoch 95/150\n",
            "6/6 [==============================] - 2s 321ms/step - loss: 0.5388 - accuracy: 0.8109 - val_loss: 0.9886 - val_accuracy: 0.6531\n",
            "Epoch 96/150\n",
            "6/6 [==============================] - 2s 286ms/step - loss: 0.5592 - accuracy: 0.7650 - val_loss: 0.9643 - val_accuracy: 0.6429\n",
            "Epoch 97/150\n",
            "6/6 [==============================] - 1s 241ms/step - loss: 0.5907 - accuracy: 0.7966 - val_loss: 1.1015 - val_accuracy: 0.6224\n",
            "Epoch 98/150\n",
            "6/6 [==============================] - 1s 239ms/step - loss: 0.5855 - accuracy: 0.8080 - val_loss: 1.0139 - val_accuracy: 0.6122\n",
            "Epoch 99/150\n",
            "6/6 [==============================] - 1s 239ms/step - loss: 0.6122 - accuracy: 0.7593 - val_loss: 1.0850 - val_accuracy: 0.6122\n",
            "Epoch 100/150\n",
            "6/6 [==============================] - 1s 265ms/step - loss: 0.5800 - accuracy: 0.7822 - val_loss: 0.9085 - val_accuracy: 0.6327\n",
            "Epoch 101/150\n",
            "6/6 [==============================] - 1s 267ms/step - loss: 0.6083 - accuracy: 0.7507 - val_loss: 1.0221 - val_accuracy: 0.6122\n",
            "Epoch 102/150\n",
            "6/6 [==============================] - 2s 308ms/step - loss: 0.5762 - accuracy: 0.7765 - val_loss: 0.9003 - val_accuracy: 0.5816\n",
            "Epoch 103/150\n",
            "6/6 [==============================] - 2s 302ms/step - loss: 0.5494 - accuracy: 0.7851 - val_loss: 1.0342 - val_accuracy: 0.6429\n",
            "Epoch 104/150\n",
            "6/6 [==============================] - 2s 300ms/step - loss: 0.5763 - accuracy: 0.7794 - val_loss: 0.9579 - val_accuracy: 0.6122\n",
            "Epoch 105/150\n",
            "6/6 [==============================] - 1s 249ms/step - loss: 0.5485 - accuracy: 0.7851 - val_loss: 0.9748 - val_accuracy: 0.6122\n",
            "Epoch 106/150\n",
            "6/6 [==============================] - 1s 257ms/step - loss: 0.5581 - accuracy: 0.7937 - val_loss: 0.9061 - val_accuracy: 0.6327\n",
            "Epoch 107/150\n",
            "6/6 [==============================] - 1s 242ms/step - loss: 0.5379 - accuracy: 0.7851 - val_loss: 1.2562 - val_accuracy: 0.5918\n",
            "Epoch 108/150\n",
            "6/6 [==============================] - 1s 243ms/step - loss: 0.5530 - accuracy: 0.7765 - val_loss: 1.0212 - val_accuracy: 0.5918\n",
            "Epoch 109/150\n",
            "6/6 [==============================] - 1s 241ms/step - loss: 0.6497 - accuracy: 0.7536 - val_loss: 0.9480 - val_accuracy: 0.6429\n",
            "Epoch 110/150\n",
            "6/6 [==============================] - 1s 243ms/step - loss: 0.5890 - accuracy: 0.8023 - val_loss: 1.0745 - val_accuracy: 0.5918\n",
            "Epoch 111/150\n",
            "6/6 [==============================] - 2s 311ms/step - loss: 0.5923 - accuracy: 0.7593 - val_loss: 0.9867 - val_accuracy: 0.5918\n",
            "Epoch 112/150\n",
            "6/6 [==============================] - 2s 308ms/step - loss: 0.5776 - accuracy: 0.7708 - val_loss: 0.9412 - val_accuracy: 0.6429\n",
            "Epoch 113/150\n",
            "6/6 [==============================] - 2s 257ms/step - loss: 0.5073 - accuracy: 0.8166 - val_loss: 0.9880 - val_accuracy: 0.6020\n",
            "Epoch 114/150\n",
            "6/6 [==============================] - 1s 241ms/step - loss: 0.5300 - accuracy: 0.7794 - val_loss: 1.0335 - val_accuracy: 0.6224\n",
            "Epoch 115/150\n",
            "6/6 [==============================] - 1s 241ms/step - loss: 0.5374 - accuracy: 0.7880 - val_loss: 1.1310 - val_accuracy: 0.6122\n",
            "Epoch 116/150\n",
            "6/6 [==============================] - 1s 243ms/step - loss: 0.5809 - accuracy: 0.8023 - val_loss: 0.9637 - val_accuracy: 0.6122\n",
            "Epoch 117/150\n",
            "6/6 [==============================] - 1s 240ms/step - loss: 0.5250 - accuracy: 0.8166 - val_loss: 1.1935 - val_accuracy: 0.6224\n",
            "Epoch 118/150\n",
            "6/6 [==============================] - 2s 294ms/step - loss: 0.5190 - accuracy: 0.8109 - val_loss: 0.8638 - val_accuracy: 0.6633\n",
            "Epoch 119/150\n",
            "6/6 [==============================] - 2s 277ms/step - loss: 0.5948 - accuracy: 0.7851 - val_loss: 1.0716 - val_accuracy: 0.6224\n",
            "Epoch 120/150\n",
            "6/6 [==============================] - 1s 241ms/step - loss: 0.5339 - accuracy: 0.8052 - val_loss: 0.8414 - val_accuracy: 0.6429\n",
            "Epoch 121/150\n",
            "6/6 [==============================] - 1s 261ms/step - loss: 0.5742 - accuracy: 0.7622 - val_loss: 0.9837 - val_accuracy: 0.6735\n",
            "Epoch 122/150\n",
            "6/6 [==============================] - 1s 257ms/step - loss: 0.5704 - accuracy: 0.7908 - val_loss: 0.9532 - val_accuracy: 0.6122\n",
            "Epoch 123/150\n",
            "6/6 [==============================] - 1s 245ms/step - loss: 0.4872 - accuracy: 0.8109 - val_loss: 1.0194 - val_accuracy: 0.6633\n",
            "Epoch 124/150\n",
            "6/6 [==============================] - 1s 234ms/step - loss: 0.5701 - accuracy: 0.7994 - val_loss: 0.9656 - val_accuracy: 0.6429\n",
            "Epoch 125/150\n",
            "6/6 [==============================] - 1s 236ms/step - loss: 0.5400 - accuracy: 0.8052 - val_loss: 0.9174 - val_accuracy: 0.6327\n",
            "Epoch 126/150\n",
            "6/6 [==============================] - 2s 307ms/step - loss: 0.5463 - accuracy: 0.8109 - val_loss: 1.1422 - val_accuracy: 0.6429\n",
            "Epoch 127/150\n",
            "6/6 [==============================] - 2s 283ms/step - loss: 0.5680 - accuracy: 0.7536 - val_loss: 0.9139 - val_accuracy: 0.6327\n",
            "Epoch 128/150\n",
            "6/6 [==============================] - 1s 232ms/step - loss: 0.5537 - accuracy: 0.8080 - val_loss: 1.0803 - val_accuracy: 0.6122\n",
            "Epoch 129/150\n",
            "6/6 [==============================] - 1s 257ms/step - loss: 0.5409 - accuracy: 0.8023 - val_loss: 0.9076 - val_accuracy: 0.6531\n",
            "Epoch 130/150\n",
            "6/6 [==============================] - 1s 244ms/step - loss: 0.5086 - accuracy: 0.8252 - val_loss: 1.0864 - val_accuracy: 0.6224\n",
            "Epoch 131/150\n",
            "6/6 [==============================] - 1s 229ms/step - loss: 0.5192 - accuracy: 0.8109 - val_loss: 0.9170 - val_accuracy: 0.6327\n",
            "Epoch 132/150\n",
            "6/6 [==============================] - 2s 272ms/step - loss: 0.5490 - accuracy: 0.7822 - val_loss: 0.9701 - val_accuracy: 0.6735\n",
            "Epoch 133/150\n",
            "6/6 [==============================] - 2s 284ms/step - loss: 0.5220 - accuracy: 0.7937 - val_loss: 0.9078 - val_accuracy: 0.6837\n",
            "Epoch 134/150\n",
            "6/6 [==============================] - 2s 305ms/step - loss: 0.5485 - accuracy: 0.7765 - val_loss: 1.0405 - val_accuracy: 0.6429\n",
            "Epoch 135/150\n",
            "6/6 [==============================] - 1s 237ms/step - loss: 0.5102 - accuracy: 0.7994 - val_loss: 0.8894 - val_accuracy: 0.6837\n",
            "Epoch 136/150\n",
            "6/6 [==============================] - 1s 266ms/step - loss: 0.5168 - accuracy: 0.8109 - val_loss: 1.0301 - val_accuracy: 0.6531\n",
            "Epoch 137/150\n",
            "6/6 [==============================] - 1s 243ms/step - loss: 0.4930 - accuracy: 0.8252 - val_loss: 1.0001 - val_accuracy: 0.6224\n",
            "Epoch 138/150\n",
            "6/6 [==============================] - 1s 235ms/step - loss: 0.4802 - accuracy: 0.8138 - val_loss: 0.9993 - val_accuracy: 0.6327\n",
            "Epoch 139/150\n",
            "6/6 [==============================] - 2s 326ms/step - loss: 0.5083 - accuracy: 0.8023 - val_loss: 1.0757 - val_accuracy: 0.6429\n",
            "Epoch 140/150\n",
            "6/6 [==============================] - 2s 304ms/step - loss: 0.5174 - accuracy: 0.8109 - val_loss: 1.0183 - val_accuracy: 0.6735\n",
            "Epoch 141/150\n",
            "6/6 [==============================] - 2s 303ms/step - loss: 0.4590 - accuracy: 0.8395 - val_loss: 0.9008 - val_accuracy: 0.6224\n",
            "Epoch 142/150\n",
            "6/6 [==============================] - 1s 236ms/step - loss: 0.5075 - accuracy: 0.7851 - val_loss: 0.9739 - val_accuracy: 0.6633\n",
            "Epoch 143/150\n",
            "6/6 [==============================] - 1s 232ms/step - loss: 0.5272 - accuracy: 0.7794 - val_loss: 0.9468 - val_accuracy: 0.5918\n",
            "Epoch 144/150\n",
            "6/6 [==============================] - 1s 256ms/step - loss: 0.4635 - accuracy: 0.8223 - val_loss: 1.0161 - val_accuracy: 0.6531\n",
            "Epoch 145/150\n",
            "6/6 [==============================] - 1s 247ms/step - loss: 0.5274 - accuracy: 0.7994 - val_loss: 0.9552 - val_accuracy: 0.6633\n",
            "Epoch 146/150\n",
            "6/6 [==============================] - 1s 238ms/step - loss: 0.5287 - accuracy: 0.7908 - val_loss: 1.0477 - val_accuracy: 0.6020\n",
            "Epoch 147/150\n",
            "6/6 [==============================] - 1s 257ms/step - loss: 0.5191 - accuracy: 0.8252 - val_loss: 0.9914 - val_accuracy: 0.6429\n",
            "Epoch 148/150\n",
            "6/6 [==============================] - 2s 302ms/step - loss: 0.4868 - accuracy: 0.8223 - val_loss: 0.9615 - val_accuracy: 0.6429\n",
            "Epoch 149/150\n",
            "6/6 [==============================] - 2s 258ms/step - loss: 0.4534 - accuracy: 0.8309 - val_loss: 1.1569 - val_accuracy: 0.6020\n",
            "Epoch 150/150\n",
            "6/6 [==============================] - 1s 240ms/step - loss: 0.4744 - accuracy: 0.8338 - val_loss: 0.9097 - val_accuracy: 0.6735\n"
          ]
        }
      ],
      "source": [
        "history = model.fit(train_generator,\n",
        "                    epochs=150,\n",
        "                    # steps_per_epoch=50,\n",
        "                    validation_data=validation_generator\n",
        "                    #validation_steps=50,\n",
        "                    # callbacks=[early_stop]\n",
        ")"
      ]
    },
    {
      "cell_type": "markdown",
      "metadata": {
        "id": "zP28OQ5rRJ5G"
      },
      "source": [
        "#make test_data and test_label"
      ]
    },
    {
      "cell_type": "code",
      "execution_count": null,
      "metadata": {
        "id": "XNpsu4xoF3BO"
      },
      "outputs": [],
      "source": [
        "import os\n",
        "import cv2\n",
        "import numpy as np\n",
        "from keras.preprocessing import image\n",
        "from keras.utils import to_categorical\n",
        "\n",
        "# Set the path to your test data directory\n",
        "test_data_directory = test_dir\n",
        "\n",
        "# Get the list of class names (assuming subdirectories in test_data_directory are class names)\n",
        "class_names = sorted(os.listdir(test_data_directory))\n",
        "\n",
        "# Initialize empty lists to store test data and labels\n",
        "test_data = []\n",
        "test_labels = []\n",
        "\n",
        "\n",
        "# Load and preprocess test data\n",
        "for class_index, class_name in enumerate(class_names):\n",
        "    class_path = os.path.join(test_data_directory, class_name)\n",
        "\n",
        "    for file_name in os.listdir(class_path):\n",
        "        file_path = os.path.join(class_path, file_name)\n",
        "\n",
        "        # Load and preprocess the image\n",
        "        img = image.load_img(file_path, target_size=(28, 28))  # Adjust target_size based on your model's input size\n",
        "        img_array = image.img_to_array(img)\n",
        "        img_array = np.expand_dims(img_array, axis=0)\n",
        "        img_array = tf.keras.applications.imagenet_utils.preprocess_input(img_array)  # Assuming you have a preprocessing function, e.g., from keras.applications import preprocess_input\n",
        "\n",
        "        # Append the preprocessed image to test_data\n",
        "        test_data.append(img_array)\n",
        "\n",
        "        # Append the class index (label) to test_labels\n",
        "        test_labels.append(class_index)\n",
        "\n",
        "# Convert lists to numpy arrays\n",
        "test_data = np.vstack(test_data)\n",
        "test_labels = np.array(test_labels)\n",
        "\n",
        "# Convert labels to one-hot encoding (if needed)\n",
        "test_labels_one_hot = to_categorical(test_labels, num_classes=len(class_names))\n",
        "\n",
        "# Shuffle the test data and labels (if needed)\n",
        "indices = np.random.permutation(len(test_data))\n",
        "test_data = test_data[indices]\n",
        "test_labels = test_labels[indices]\n",
        "test_labels_one_hot = test_labels_one_hot[indices]\n"
      ]
    },
    {
      "cell_type": "code",
      "execution_count": null,
      "metadata": {
        "id": "bxLyT0sIYZbS",
        "colab": {
          "base_uri": "https://localhost:8080/"
        },
        "outputId": "3b084534-97c8-48d8-dd10-53b78fa557ed"
      },
      "outputs": [
        {
          "output_type": "stream",
          "name": "stdout",
          "text": [
            "1/1 [==============================] - 0s 155ms/step - loss: 0.7901 - accuracy: 0.7551\n",
            "Test Loss: 0.7901325821876526\n",
            "Test Accuracy: 0.7551020383834839\n"
          ]
        }
      ],
      "source": [
        "# from keras.preprocessing.image import ImageDataGenerator\n",
        "\n",
        "# # Define the path to your test data directory\n",
        "# test_data_dir = test_dir\n",
        "\n",
        "# # Set the target size based on your model's input size\n",
        "# target_size = (28, 28)\n",
        "\n",
        "# # Create an ImageDataGenerator for test data\n",
        "# test_datagen = ImageDataGenerator(rescale=1./255)  # You can add other preprocessing steps if needed\n",
        "\n",
        "# # Create a test generator\n",
        "# test_generator = test_datagen.flow_from_directory(\n",
        "#     test_data_dir,\n",
        "#     target_size=target_size,\n",
        "#     batch_size=32,  # Adjust batch size based on your preference\n",
        "#     class_mode='categorical',  # Set to 'binary' for binary classification\n",
        "#     shuffle=False  # Keep the order of predictions consistent for evaluation\n",
        "# )\n",
        "\n",
        "# # Evaluate the model on the test data\n",
        "test_loss, test_accuracy = model.evaluate(test_generator)\n",
        "\n",
        "print(f'Test Loss: {test_loss}')\n",
        "print(f'Test Accuracy: {test_accuracy}')\n"
      ]
    },
    {
      "cell_type": "markdown",
      "metadata": {
        "id": "IfmPb4JxVM0i"
      },
      "source": [
        "#Using Confusion Matrix to see the accuracy"
      ]
    },
    {
      "cell_type": "code",
      "execution_count": null,
      "metadata": {
        "colab": {
          "base_uri": "https://localhost:8080/",
          "height": 978
        },
        "id": "866lKf87VS76",
        "outputId": "b704a1b8-bcbc-4ecc-b01c-7f60cc5c7344"
      },
      "outputs": [
        {
          "output_type": "stream",
          "name": "stdout",
          "text": [
            "1/1 [==============================] - 0s 128ms/step\n"
          ]
        },
        {
          "output_type": "display_data",
          "data": {
            "text/plain": [
              "<Figure size 800x600 with 2 Axes>"
            ],
            "image/png": "[encoded data removed]"
          },
          "metadata": {}
        },
        {
          "output_type": "stream",
          "name": "stdout",
          "text": [
            "\n",
            "Classification Report:\n",
            "                          precision    recall  f1-score   support\n",
            "\n",
            "       nasi goreng polos       1.00      1.00      1.00         9\n",
            "nasi goreng telor ceplok       1.00      1.00      1.00        10\n",
            "       nasi goreng udang       1.00      1.00      1.00        10\n",
            "              telur asin       1.00      1.00      1.00        10\n",
            "            telur balado       1.00      1.00      1.00        10\n",
            "\n",
            "                accuracy                           1.00        49\n",
            "               macro avg       1.00      1.00      1.00        49\n",
            "            weighted avg       1.00      1.00      1.00        49\n",
            "\n"
          ]
        }
      ],
      "source": [
        "from sklearn.metrics import confusion_matrix, classification_report\n",
        "import numpy as np\n",
        "import seaborn as sns\n",
        "import matplotlib.pyplot as plt\n",
        "\n",
        "# Assuming you have a model that is already trained\n",
        "# Make predictions on the test data\n",
        "predictions = model.predict(test_generator)\n",
        "\n",
        "# Convert predictions to class labels\n",
        "predicted_labels = test_generator.classes\n",
        "\n",
        "# Convert true labels to class labels (assuming they are integers)\n",
        "true_labels = test_labels\n",
        "\n",
        "# Create confusion matrix\n",
        "conf_matrix = confusion_matrix(true_labels, predicted_labels)\n",
        "\n",
        "# Display confusion matrix using seaborn\n",
        "plt.figure(figsize=(8, 6))\n",
        "sns.heatmap(conf_matrix, annot=True, fmt=\"d\", cmap=\"Blues\", xticklabels=class_names, yticklabels=class_names)\n",
        "plt.title(\"Confusion Matrix\")\n",
        "plt.xlabel(\"Predicted\")\n",
        "plt.ylabel(\"True\")\n",
        "plt.show()\n",
        "\n",
        "# Print classification report\n",
        "print(\"\\nClassification Report:\")\n",
        "print(classification_report(true_labels, predicted_labels, target_names=class_names))\n"
      ]
    },
    {
      "cell_type": "markdown",
      "source": [
        "Confusion another"
      ],
      "metadata": {
        "id": "0gJRZzJFWbrp"
      }
    },
    {
      "cell_type": "code",
      "source": [
        "import tensorflow as tf\n",
        "from sklearn.metrics import confusion_matrix\n",
        "\n",
        "# Load the model\n",
        "\n",
        "# Get the labels and predictions for the validation data\n",
        "# validation_labels = validation_generator.classes\n",
        "# validation_predictions = model.predict(validation_generator)\n",
        "\n",
        "test_labels = test_generator.classes\n",
        "test_predictions = model.predict(test_generator)\n",
        "\n",
        "# Create the confusion matrix\n",
        "#confusion_matrix = confusion_matrix(validation_labels, validation_predictions.argmax(axis=1))\n",
        "confusion_matrix = confusion_matrix(test_labels, test_predictions.argmax(axis=1))\n",
        "\n",
        "\n",
        "# Print the confusion matrix\n",
        "print(confusion_matrix)"
      ],
      "metadata": {
        "id": "Use9nOT6WdZJ",
        "colab": {
          "base_uri": "https://localhost:8080/"
        },
        "outputId": "e2951f45-062c-4e31-bedc-a0615aeaf7e6"
      },
      "execution_count": null,
      "outputs": [
        {
          "output_type": "stream",
          "name": "stdout",
          "text": [
            "1/1 [==============================] - 0s 128ms/step\n",
            "[[ 5  1  3  0  0]\n",
            " [ 2  5  2  1  0]\n",
            " [ 0  0 10  0  0]\n",
            " [ 0  2  0  8  0]\n",
            " [ 0  0  1  0  9]]\n"
          ]
        }
      ]
    },
    {
      "cell_type": "markdown",
      "source": [
        "Model.predict with only 1 image\n"
      ],
      "metadata": {
        "id": "XA3oop7CsUbZ"
      }
    },
    {
      "cell_type": "markdown",
      "metadata": {
        "id": "aDfJqHVcKyQU"
      },
      "source": [
        "Save Model"
      ]
    },
    {
      "cell_type": "code",
      "execution_count": null,
      "metadata": {
        "id": "FN25-0G1K3W3"
      },
      "outputs": [],
      "source": [
        "model.save('model_capstone.keras')"
      ]
    },
    {
      "cell_type": "markdown",
      "source": [
        "Evaluate model"
      ],
      "metadata": {
        "id": "yu9xYRozBCxJ"
      }
    },
    {
      "cell_type": "code",
      "source": [
        "import tensorflow as tf\n",
        "from sklearn.metrics import accuracy_score, precision_score, recall_score, f1_score, roc_auc_score\n",
        "\n",
        "# Load the model\n",
        "# model = tf.keras.models.load_model('model_capstone.h5')\n",
        "\n",
        "# Get the labels and predictions for the test data\n",
        "test_labels = test_generator.classes\n",
        "test_predictions = model.predict(test_generator)\n",
        "\n",
        "# Evaluate the model\n",
        "accuracy = accuracy_score(test_labels, test_predictions.argmax(axis=1))\n",
        "precision = precision_score(test_labels, test_predictions.argmax(axis=1), average='macro')\n",
        "recall = recall_score(test_labels, test_predictions.argmax(axis=1), average='macro')\n",
        "f1 = f1_score(test_labels, test_predictions.argmax(axis=1), average='macro')\n",
        "# roc_auc = roc_auc_score(test_labels, test_predictions, multi_class='ovo')\n",
        "\n",
        "# Print the results\n",
        "print('Accuracy:', accuracy)\n",
        "print('Precision:', precision)\n",
        "print('Recall:', recall)\n",
        "print('F1 score:', f1)\n",
        "# print('ROC AUC:', roc_auc)"
      ],
      "metadata": {
        "colab": {
          "base_uri": "https://localhost:8080/"
        },
        "id": "6mu_diiCBE_2",
        "outputId": "71db59b5-80c1-4a7d-c7d9-c184df93e2fe"
      },
      "execution_count": null,
      "outputs": [
        {
          "output_type": "stream",
          "name": "stdout",
          "text": [
            "1/1 [==============================] - 0s 132ms/step\n",
            "Accuracy: 0.7551020408163265\n",
            "Precision: 0.7706349206349207\n",
            "Recall: 0.7511111111111111\n",
            "F1 score: 0.7478520017993702\n"
          ]
        }
      ]
    },
    {
      "cell_type": "markdown",
      "source": [
        "Make class text"
      ],
      "metadata": {
        "id": "GOSIDI1CoMCq"
      }
    },
    {
      "cell_type": "code",
      "source": [
        "class_names = list(train_generator.class_indices.keys())\n",
        "with open('labels.txt', 'w') as f:\n",
        "    f.write('\\n'.join(class_names))"
      ],
      "metadata": {
        "id": "15VVEJGUoLij"
      },
      "execution_count": null,
      "outputs": []
    },
    {
      "cell_type": "markdown",
      "source": [
        "Predict with one image"
      ],
      "metadata": {
        "id": "OSQV-nZlNAL_"
      }
    },
    {
      "cell_type": "code",
      "source": [
        "import tensorflow as tf\n",
        "from tensorflow.keras.preprocessing import image\n",
        "import numpy as np\n",
        "from google.colab import files\n",
        "\n",
        "# Load the labels associated with the model\n",
        "with open('labels.txt', 'r') as file:\n",
        "    class_labels = [line.strip() for line in file]\n",
        "\n",
        "# Upload an image file\n",
        "uploaded = files.upload()\n",
        "\n",
        "# Get the uploaded image path\n",
        "img_path = list(uploaded.keys())[0]\n",
        "\n",
        "# Load and preprocess the image\n",
        "img = image.load_img(img_path, target_size=(28, 28))  # Adjust target size if needed\n",
        "img_array = image.img_to_array(img)\n",
        "img_array = np.expand_dims(img_array, axis=0)\n",
        "img_array /= 255.0  # Normalize if needed\n",
        "\n",
        "# Make predictions\n",
        "predictions = model.predict(img_array)\n",
        "\n",
        "# Decode and output the predicted label as a string\n",
        "predicted_label_index = np.argmax(predictions[0])\n",
        "predicted_label = class_labels[predicted_label_index]\n",
        "print(\"Predicted Label:\", predicted_label)\n"
      ],
      "metadata": {
        "id": "PRlwYHTuNDCL"
      },
      "execution_count": null,
      "outputs": []
    },
    {
      "cell_type": "markdown",
      "source": [
        "Convert to Tflite"
      ],
      "metadata": {
        "id": "ajQKD8IXqORM"
      }
    },
    {
      "cell_type": "code",
      "source": [
        "import tensorflow as tf\n",
        "from tensorflow.keras.models import load_model\n",
        "\n",
        "# Load the Keras model\n",
        "model = load_model('Model_capstone.keras')\n",
        "\n",
        "# Convert the model to TFLite format\n",
        "converter = tf.lite.TFLiteConverter.from_keras_model(model)\n",
        "tflite_model = converter.convert()\n",
        "\n",
        "# Save the TFLite model to a file\n",
        "with open('converted_model.tflite', 'wb') as f:\n",
        "    f.write(tflite_model)\n"
      ],
      "metadata": {
        "id": "ey4jwPIGqP6Z"
      },
      "execution_count": null,
      "outputs": []
    }
  ],
  "metadata": {
    "accelerator": "GPU",
    "colab": {
      "provenance": [],
      "gpuType": "T4",
      "include_colab_link": true
    },
    "kernelspec": {
      "display_name": "Python 3",
      "name": "python3"
    },
    "language_info": {
      "name": "python"
    }
  },
  "nbformat": 4,
  "nbformat_minor": 0
}