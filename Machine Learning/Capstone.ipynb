{
  "cells": [
    {
      "cell_type": "code",
      "execution_count": 35,
      "metadata": {
        "colab": {
          "base_uri": "https://localhost:8080/"
        },
        "id": "buHdR_rlmBkA",
        "outputId": "afcc88f3-55fd-4f90-c435-49277c5e092f"
      },
      "outputs": [
        {
          "name": "stdout",
          "output_type": "stream",
          "text": [
            "Drive already mounted at /content/drive; to attempt to forcibly remount, call drive.mount(\"/content/drive\", force_remount=True).\n"
          ]
        }
      ],
      "source": [
        "import os\n",
        "import tensorflow as tf\n",
        "import matplotlib.pyplot as plt\n",
        "import numpy as np\n",
        "from tensorflow.keras.preprocessing.image import ImageDataGenerator\n",
        "from keras.callbacks import Callback\n",
        "from keras.utils import to_categorical\n",
        "from sklearn.metrics import confusion_matrix, classification_report\n",
        "import seaborn as sns\n",
        "from keras.preprocessing import image\n",
        "\n",
        "from google.colab import drive\n",
        "drive.mount('/content/drive')"
      ]
    },
    {
      "cell_type": "code",
      "execution_count": 36,
      "metadata": {
        "id": "s4HVFAr7bP1N"
      },
      "outputs": [],
      "source": [
        "train_dir = 'drive/MyDrive/Capstone Project/train'\n",
        "valid_dir = 'drive/MyDrive/Capstone Project/valid'\n",
        "test_dir = 'drive/MyDrive/Capstone Project/test'"
      ]
    },
    {
      "cell_type": "markdown",
      "metadata": {
        "id": "2zef8YBpwApI"
      },
      "source": [
        "ImageGen"
      ]
    },
    {
      "cell_type": "code",
      "execution_count": 37,
      "metadata": {
        "id": "Alnc2_ccstPH"
      },
      "outputs": [],
      "source": [
        "def train_val_generators(TRAINING_DIR, VALIDATION_DIR):\n",
        "  \"\"\"\n",
        "  Creates the training and validation data generators\n",
        "\n",
        "  Args:\n",
        "    TRAINING_DIR (string): directory path containing the training images\n",
        "    VALIDATION_DIR (string): directory path containing the testing/validation images\n",
        "\n",
        "  Returns:\n",
        "    train_generator, validation_generator - tuple containing the generators\n",
        "  \"\"\"\n",
        "  ### START CODE HERE\n",
        "\n",
        "  # Instantiate the ImageDataGenerator class (don't forget to set the rescale argument)\n",
        "  train_datagen = ImageDataGenerator(\n",
        "                          rescale=1./255,\n",
        "                          rotation_range=20,\n",
        "                          width_shift_range=0.2,\n",
        "                          height_shift_range=0.2,\n",
        "                          shear_range=0.2,\n",
        "                          zoom_range=0.2,\n",
        "                          horizontal_flip=True,\n",
        "                          fill_mode='nearest'\n",
        ")\n",
        "\n",
        "  # Pass in the appropriate arguments to the flow_from_directory method\n",
        "  train_generator = train_datagen.flow_from_directory(directory=TRAINING_DIR,\n",
        "                                                      batch_size=10,\n",
        "                                                      class_mode='categorical',\n",
        "                                                      target_size=(150, 150))\n",
        "\n",
        "  # Instantiate the ImageDataGenerator class (don't forget to set the rescale argument)\n",
        "  validation_datagen = ImageDataGenerator(\n",
        "                          rescale=1./255,\n",
        "                          rotation_range=20,\n",
        "                          width_shift_range=0.2,\n",
        "                          height_shift_range=0.2,\n",
        "                          shear_range=0.2,\n",
        "                          zoom_range=0.2,\n",
        "                          horizontal_flip=True,\n",
        "                          fill_mode='nearest'\n",
        ")\n",
        "\n",
        "  # Pass in the appropriate arguments to the flow_from_directory method\n",
        "  validation_generator = validation_datagen.flow_from_directory(directory=VALIDATION_DIR,\n",
        "                                                                batch_size=10,\n",
        "                                                                class_mode='categorical',\n",
        "                                                                target_size=(150, 150))\n",
        "  ### END CODE HERE\n",
        "  return train_generator, validation_generator"
      ]
    },
    {
      "cell_type": "code",
      "execution_count": 38,
      "metadata": {
        "colab": {
          "base_uri": "https://localhost:8080/"
        },
        "id": "EDXjIgDlw3Ls",
        "outputId": "dc027386-b1b3-471e-c6aa-f031ce4d0c9d"
      },
      "outputs": [
        {
          "name": "stdout",
          "output_type": "stream",
          "text": [
            "Found 1672 images belonging to 11 classes.\n",
            "Found 1204 images belonging to 11 classes.\n"
          ]
        }
      ],
      "source": [
        "train_generator, validation_generator = train_val_generators(train_dir, valid_dir)"
      ]
    },
    {
      "cell_type": "markdown",
      "metadata": {
        "id": "viJGUn-Ufkqv"
      },
      "source": [
        "Model"
      ]
    },
    {
      "cell_type": "code",
      "execution_count": 39,
      "metadata": {
        "colab": {
          "base_uri": "https://localhost:8080/"
        },
        "id": "Q-3ygJFVcrei",
        "outputId": "d1ad4d3f-33e2-4380-e4eb-f1c2ff32d13b"
      },
      "outputs": [
        {
          "name": "stdout",
          "output_type": "stream",
          "text": [
            "Model: \"sequential_3\"\n",
            "_________________________________________________________________\n",
            " Layer (type)                Output Shape              Param #   \n",
            "=================================================================\n",
            " conv2d_9 (Conv2D)           (None, 148, 148, 32)      896       \n",
            "                                                                 \n",
            " max_pooling2d_9 (MaxPoolin  (None, 74, 74, 32)        0         \n",
            " g2D)                                                            \n",
            "                                                                 \n",
            " conv2d_10 (Conv2D)          (None, 72, 72, 64)        18496     \n",
            "                                                                 \n",
            " max_pooling2d_10 (MaxPooli  (None, 36, 36, 64)        0         \n",
            " ng2D)                                                           \n",
            "                                                                 \n",
            " conv2d_11 (Conv2D)          (None, 34, 34, 128)       73856     \n",
            "                                                                 \n",
            " max_pooling2d_11 (MaxPooli  (None, 17, 17, 128)       0         \n",
            " ng2D)                                                           \n",
            "                                                                 \n",
            " flatten_3 (Flatten)         (None, 36992)             0         \n",
            "                                                                 \n",
            " dense_6 (Dense)             (None, 128)               4735104   \n",
            "                                                                 \n",
            " dense_7 (Dense)             (None, 11)                1419      \n",
            "                                                                 \n",
            "=================================================================\n",
            "Total params: 4829771 (18.42 MB)\n",
            "Trainable params: 4829771 (18.42 MB)\n",
            "Non-trainable params: 0 (0.00 Byte)\n",
            "_________________________________________________________________\n"
          ]
        }
      ],
      "source": [
        "model = tf.keras.models.Sequential([\n",
        "    tf.keras.layers.Conv2D(32, (3, 3), input_shape=(150, 150, 3), activation='relu'),\n",
        "    tf.keras.layers.MaxPooling2D(2,2),\n",
        "\n",
        "    tf.keras.layers.Conv2D(64, (3, 3), activation='relu'),\n",
        "    tf.keras.layers.MaxPooling2D(2,2),\n",
        "\n",
        "    tf.keras.layers.Conv2D(128, (3, 3), activation='relu'),\n",
        "    tf.keras.layers.MaxPooling2D(2,2),\n",
        "\n",
        "\n",
        "    tf.keras.layers.Flatten(),\n",
        "    tf.keras.layers.Dense(128, activation= 'relu'),\n",
        "    tf.keras.layers.Dense(11, activation='softmax')\n",
        "])\n",
        "\n",
        "model.summary()\n"
      ]
    },
    {
      "cell_type": "code",
      "execution_count": 40,
      "metadata": {
        "id": "5qftDmpcgqBE"
      },
      "outputs": [],
      "source": [
        "model.compile(optimizer='adam', loss='categorical_crossentropy', metrics=['accuracy'])"
      ]
    },
    {
      "cell_type": "markdown",
      "metadata": {
        "id": "TlUl5fOMALC5"
      },
      "source": [
        "#Callbacks"
      ]
    },
    {
      "cell_type": "code",
      "execution_count": 41,
      "metadata": {
        "id": "-nLUXxbWAK2o"
      },
      "outputs": [],
      "source": [
        "class AccuracyCallback(Callback):\n",
        "    def on_epoch_end(self, epoch, logs=None):\n",
        "        if logs is None:\n",
        "            logs = {}\n",
        "\n",
        "        current_accuracy = logs.get('accuracy')\n",
        "\n",
        "        target_accuracy = 0.95\n",
        "\n",
        "        if current_accuracy is not None and current_accuracy >= target_accuracy:\n",
        "            print(f\"\\nReached {target_accuracy * 100}% accuracy. Stopping training.\")\n",
        "            self.model.stop_training = True"
      ]
    },
    {
      "cell_type": "markdown",
      "metadata": {
        "id": "LuT5WRRzJrqC"
      },
      "source": [
        "#train Model"
      ]
    },
    {
      "cell_type": "code",
      "execution_count": null,
      "metadata": {
        "colab": {
          "base_uri": "https://localhost:8080/"
        },
        "id": "Em4i0vaEl6P_",
        "outputId": "110d5394-04b7-4ec7-da94-6ebc69754599"
      },
      "outputs": [
        {
          "name": "stdout",
          "output_type": "stream",
          "text": [
            "Epoch 1/200\n",
            " 34/168 [=====>........................] - ETA: 58s - loss: 2.3201 - accuracy: 0.1794"
          ]
        },
        {
          "name": "stderr",
          "output_type": "stream",
          "text": [
            "/usr/local/lib/python3.10/dist-packages/PIL/Image.py:996: UserWarning: Palette images with Transparency expressed in bytes should be converted to RGBA images\n",
            "  warnings.warn(\n"
          ]
        },
        {
          "name": "stdout",
          "output_type": "stream",
          "text": [
            "168/168 [==============================] - 97s 574ms/step - loss: 2.0746 - accuracy: 0.2644 - val_loss: 1.7185 - val_accuracy: 0.3812\n",
            "Epoch 2/200\n",
            "168/168 [==============================] - 78s 464ms/step - loss: 1.6532 - accuracy: 0.3953 - val_loss: 1.4764 - val_accuracy: 0.4734\n",
            "Epoch 3/200\n",
            "168/168 [==============================] - 75s 444ms/step - loss: 1.4251 - accuracy: 0.4797 - val_loss: 1.4669 - val_accuracy: 0.4676\n",
            "Epoch 4/200\n",
            " 24/168 [===>..........................] - ETA: 42s - loss: 1.3976 - accuracy: 0.5042"
          ]
        }
      ],
      "source": [
        "history = model.fit(train_generator,\n",
        "                    epochs=200,\n",
        "                    validation_data=validation_generator,\n",
        "                    callbacks=[AccuracyCallback()])"
      ]
    },
    {
      "cell_type": "markdown",
      "metadata": {
        "id": "zP28OQ5rRJ5G"
      },
      "source": [
        "#make test_data and test_label"
      ]
    },
    {
      "cell_type": "code",
      "execution_count": 25,
      "metadata": {
        "id": "XNpsu4xoF3BO"
      },
      "outputs": [],
      "source": [
        "import os\n",
        "import cv2\n",
        "import numpy as np\n",
        "from keras.preprocessing import image\n",
        "from keras.utils import to_categorical\n",
        "\n",
        "# Set the path to your test data directory\n",
        "test_data_directory = 'drive/MyDrive/Capstone Project/test'\n",
        "\n",
        "# Get the list of class names (assuming subdirectories in test_data_directory are class names)\n",
        "class_names = sorted(os.listdir(test_data_directory))\n",
        "\n",
        "# Initialize empty lists to store test data and labels\n",
        "test_data = []\n",
        "test_labels = []\n",
        "\n",
        "\n",
        "# Load and preprocess test data\n",
        "for class_index, class_name in enumerate(class_names):\n",
        "    class_path = os.path.join(test_data_directory, class_name)\n",
        "\n",
        "    for file_name in os.listdir(class_path):\n",
        "        file_path = os.path.join(class_path, file_name)\n",
        "\n",
        "        # Load and preprocess the image\n",
        "        img = image.load_img(file_path, target_size=(150, 150))  # Adjust target_size based on your model's input size\n",
        "        img_array = image.img_to_array(img)\n",
        "        img_array = np.expand_dims(img_array, axis=0)\n",
        "        img_array = tf.keras.applications.imagenet_utils.preprocess_input(img_array)  # Assuming you have a preprocessing function, e.g., from keras.applications import preprocess_input\n",
        "\n",
        "        # Append the preprocessed image to test_data\n",
        "        test_data.append(img_array)\n",
        "\n",
        "        # Append the class index (label) to test_labels\n",
        "        test_labels.append(class_index)\n",
        "\n",
        "# Convert lists to numpy arrays\n",
        "test_data = np.vstack(test_data)\n",
        "test_labels = np.array(test_labels)\n",
        "\n",
        "# Convert labels to one-hot encoding (if needed)\n",
        "test_labels_one_hot = to_categorical(test_labels, num_classes=len(class_names))\n",
        "\n",
        "# Shuffle the test data and labels (if needed)\n",
        "indices = np.random.permutation(len(test_data))\n",
        "test_data = test_data[indices]\n",
        "test_labels = test_labels[indices]\n",
        "test_labels_one_hot = test_labels_one_hot[indices]\n"
      ]
    },
    {
      "cell_type": "code",
      "execution_count": 26,
      "metadata": {
        "colab": {
          "base_uri": "https://localhost:8080/"
        },
        "id": "bxLyT0sIYZbS",
        "outputId": "6c74e3e1-da1d-408d-fd2b-30878b5dcb08"
      },
      "outputs": [
        {
          "name": "stdout",
          "output_type": "stream",
          "text": [
            "Found 110 images belonging to 11 classes.\n",
            "4/4 [==============================] - 2s 339ms/step - loss: 1.4049 - accuracy: 0.8182\n",
            "Test Loss: 1.4049310684204102\n",
            "Test Accuracy: 0.8181818127632141\n"
          ]
        }
      ],
      "source": [
        "from keras.preprocessing.image import ImageDataGenerator\n",
        "\n",
        "# Define the path to your test data directory\n",
        "test_data_dir = test_dir\n",
        "\n",
        "# Set the target size based on your model's input size\n",
        "target_size = (150, 150)\n",
        "\n",
        "# Create an ImageDataGenerator for test data\n",
        "test_datagen = ImageDataGenerator(rescale=1./255)  # You can add other preprocessing steps if needed\n",
        "\n",
        "# Create a test generator\n",
        "test_generator = test_datagen.flow_from_directory(\n",
        "    test_data_dir,\n",
        "    target_size=target_size,\n",
        "    batch_size=32,  # Adjust batch size based on your preference\n",
        "    class_mode='categorical',  # Set to 'binary' for binary classification\n",
        "    shuffle=False  # Keep the order of predictions consistent for evaluation\n",
        ")\n",
        "\n",
        "# Evaluate the model on the test data\n",
        "test_loss, test_accuracy = model.evaluate(test_generator)\n",
        "\n",
        "print(f'Test Loss: {test_loss}')\n",
        "print(f'Test Accuracy: {test_accuracy}')\n"
      ]
    },
    {
      "cell_type": "markdown",
      "metadata": {
        "id": "IfmPb4JxVM0i"
      },
      "source": [
        "#Using Confusion Matrix to see the accuracy"
      ]
    },
    {
      "cell_type": "code",
      "execution_count": 27,
      "metadata": {
        "colab": {
          "base_uri": "https://localhost:8080/",
          "height": 1000
        },
        "id": "866lKf87VS76",
        "outputId": "611ac508-7604-4216-b411-10459419e780"
      },
      "outputs": [
        {
          "name": "stdout",
          "output_type": "stream",
          "text": [
            "4/4 [==============================] - 1s 212ms/step\n"
          ]
        },
        {
          "data": {
            "image/png": "[encoded data removed]",
            "text/plain": [
              "<Figure size 800x600 with 2 Axes>"
            ]
          },
          "metadata": {},
          "output_type": "display_data"
        },
        {
          "name": "stdout",
          "output_type": "stream",
          "text": [
            "\n",
            "Classification Report:\n",
            "              precision    recall  f1-score   support\n",
            "\n",
            "       apple       0.00      0.00      0.00        10\n",
            "       bakso       0.00      0.00      0.00        10\n",
            "    cucumber       0.00      0.00      0.00        10\n",
            "        gado       0.00      0.00      0.00        10\n",
            "       gudeg       0.00      0.00      0.00        10\n",
            "       mango       0.11      0.30      0.16        10\n",
            "      orange       0.00      0.00      0.00        10\n",
            "      potato       0.10      0.70      0.17        10\n",
            "     rendang       0.00      0.00      0.00        10\n",
            "       salad       0.00      0.00      0.00        10\n",
            "        sate       0.00      0.00      0.00        10\n",
            "\n",
            "    accuracy                           0.09       110\n",
            "   macro avg       0.02      0.09      0.03       110\n",
            "weighted avg       0.02      0.09      0.03       110\n",
            "\n"
          ]
        },
        {
          "name": "stderr",
          "output_type": "stream",
          "text": [
            "/usr/local/lib/python3.10/dist-packages/sklearn/metrics/_classification.py:1344: UndefinedMetricWarning: Precision and F-score are ill-defined and being set to 0.0 in labels with no predicted samples. Use `zero_division` parameter to control this behavior.\n",
            "  _warn_prf(average, modifier, msg_start, len(result))\n",
            "/usr/local/lib/python3.10/dist-packages/sklearn/metrics/_classification.py:1344: UndefinedMetricWarning: Precision and F-score are ill-defined and being set to 0.0 in labels with no predicted samples. Use `zero_division` parameter to control this behavior.\n",
            "  _warn_prf(average, modifier, msg_start, len(result))\n",
            "/usr/local/lib/python3.10/dist-packages/sklearn/metrics/_classification.py:1344: UndefinedMetricWarning: Precision and F-score are ill-defined and being set to 0.0 in labels with no predicted samples. Use `zero_division` parameter to control this behavior.\n",
            "  _warn_prf(average, modifier, msg_start, len(result))\n"
          ]
        }
      ],
      "source": [
        "from sklearn.metrics import confusion_matrix, classification_report\n",
        "import numpy as np\n",
        "import seaborn as sns\n",
        "import matplotlib.pyplot as plt\n",
        "\n",
        "# Assuming you have a model that is already trained\n",
        "# Make predictions on the test data\n",
        "predictions = model.predict(test_data)\n",
        "\n",
        "# Convert predictions to class labels\n",
        "predicted_labels = np.argmax(predictions, axis=1)\n",
        "\n",
        "# Convert true labels to class labels (assuming they are integers)\n",
        "true_labels = test_labels\n",
        "\n",
        "# Create confusion matrix\n",
        "conf_matrix = confusion_matrix(true_labels, predicted_labels)\n",
        "\n",
        "# Display confusion matrix using seaborn\n",
        "plt.figure(figsize=(8, 6))\n",
        "sns.heatmap(conf_matrix, annot=True, fmt=\"d\", cmap=\"Blues\", xticklabels=class_names, yticklabels=class_names)\n",
        "plt.title(\"Confusion Matrix\")\n",
        "plt.xlabel(\"Predicted\")\n",
        "plt.ylabel(\"True\")\n",
        "plt.show()\n",
        "\n",
        "# Print classification report\n",
        "print(\"\\nClassification Report:\")\n",
        "print(classification_report(true_labels, predicted_labels, target_names=class_names))\n"
      ]
    },
    {
      "cell_type": "code",
      "execution_count": 34,
      "metadata": {
        "colab": {
          "base_uri": "https://localhost:8080/"
        },
        "id": "lC0mrFNQWdgP",
        "outputId": "beeeefb1-9eb3-436e-ba63-42d3ebd257f1"
      },
      "outputs": [
        {
          "name": "stdout",
          "output_type": "stream",
          "text": [
            "1/1 [==============================] - 0s 64ms/step\n",
            "The predicted class label is: potato\n"
          ]
        }
      ],
      "source": [
        "import tensorflow as tf\n",
        "from tensorflow.keras.preprocessing import image\n",
        "from tensorflow.keras.applications.vgg16 import preprocess_input\n",
        "import numpy as np\n",
        "\n",
        "\n",
        "# Class labels mapping\n",
        "class_labels = {\n",
        "    0: 'apple',\n",
        "    1: 'bakso',\n",
        "    2: 'cucumber',\n",
        "    3: 'gado',\n",
        "    4: 'gudeg',\n",
        "    5: 'mango',\n",
        "    6: 'orange',\n",
        "    7: 'potato',\n",
        "    8: 'rendang',\n",
        "    9: 'salad',\n",
        "    10: 'sate'\n",
        "}\n",
        "\n",
        "# Load and preprocess the input image\n",
        "img_path = 'drive/MyDrive/Capstone Project/test/bakso/bakso-21931.jpg' # Replace with the path to your image\n",
        "img = image.load_img(img_path, target_size=(150, 150))\n",
        "img_array = image.img_to_array(img)\n",
        "img_array = np.expand_dims(img_array, axis=0)\n",
        "img_array = preprocess_input(img_array)\n",
        "\n",
        "# Make predictions\n",
        "predictions = model.predict(img_array)\n",
        "\n",
        "# Get the predicted class index\n",
        "predicted_class_index = np.argmax(predictions)\n",
        "\n",
        "# Get the predicted class label\n",
        "predicted_class_label = class_labels.get(predicted_class_index, 'Unknown')\n",
        "\n",
        "# Print the predicted class label\n",
        "print(f\"The predicted class label is: {predicted_class_label}\")\n"
      ]
    }
  ],
  "metadata": {
    "accelerator": "GPU",
    "colab": {
      "gpuType": "T4",
      "provenance": []
    },
    "kernelspec": {
      "display_name": "Python 3",
      "name": "python3"
    },
    "language_info": {
      "name": "python"
    }
  },
  "nbformat": 4,
  "nbformat_minor": 0
}
